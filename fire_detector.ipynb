{
 "cells": [
  {
   "cell_type": "code",
   "execution_count": 1,
   "metadata": {},
   "outputs": [
    {
     "name": "stderr",
     "output_type": "stream",
     "text": [
      "Using TensorFlow backend.\n"
     ]
    }
   ],
   "source": [
    "import numpy as np\n",
    "import cv2\n",
    "\n",
    "from keras.models import load_model\n",
    "\n",
    "import itertools"
   ]
  },
  {
   "cell_type": "code",
   "execution_count": 2,
   "metadata": {},
   "outputs": [],
   "source": [
    "import tensorflow as tf\n",
    "from keras.backend.tensorflow_backend import set_session\n",
    "config = tf.ConfigProto()\n",
    "config.gpu_options.per_process_gpu_memory_fraction = 0.7\n",
    "set_session(tf.Session(config=config))"
   ]
  },
  {
   "cell_type": "code",
   "execution_count": null,
   "metadata": {
    "scrolled": true
   },
   "outputs": [],
   "source": [
    "FRAME_IN_SAMPLE = 12\n",
    "W_STRIDE = 4\n",
    "H_STRIDE = 4\n",
    "SIZE_STRIDE = 8\n",
    "\n",
    "WIDTH = 80\n",
    "HEIGHT = 45\n",
    "\n",
    "MODEL_FILE = \"model_v2.h5\"\n",
    "\n",
    "file_name = \"data/fire_positive_prepared_test/03.mp4\"\n",
    "\n",
    "model = load_model(MODEL_FILE)\n",
    "\n",
    "cap = cv2.VideoCapture(file_name)\n",
    "stream_fps = cap.get(cv2.CAP_PROP_FPS)\n",
    "stream_width = int(cap.get(cv2.CAP_PROP_FRAME_WIDTH))\n",
    "stream_height = int(cap.get(cv2.CAP_PROP_FRAME_HEIGHT))\n",
    "\n",
    "all_y = np.arange(0, stream_height, H_STRIDE)\n",
    "all_x = np.arange(0, stream_width, W_STRIDE)\n",
    "all_rectangle = list(itertools.product(all_y, all_x, [WIDTH], [HEIGHT]))\n",
    "\n",
    "current_sample = []\n",
    "fullscreen_sample = np.zeros((1, FRAME_IN_SAMPLE, stream_height, stream_width, 3))\n",
    "rectangles = []\n",
    "\n",
    "while cap.isOpened():\n",
    "    \n",
    "    ret, frame = cap.read()\n",
    "    if frame is None:\n",
    "        break\n",
    "    \n",
    "    current_sample.append(frame)\n",
    "    if len(current_sample) == FRAME_IN_SAMPLE:\n",
    "        rectangles = []\n",
    "        fullscreen_sample[0, :, :, :, :] = np.asarray(current_sample).astype(np.float32) / 255\n",
    "        current_sample = []\n",
    "        \n",
    "        all_rectangle_filtered = filter(lambda c: (c[0] + c[3] < stream_height) and (c[1] + c[2] < stream_width), all_rectangle)\n",
    "        for y, x, w, h in all_rectangle_filtered:\n",
    "            sample = fullscreen_sample[:, :, y:y+h, x:x+w,:]\n",
    "            pred = model.predict(x = [sample])\n",
    "            \n",
    "            #print(y)\n",
    "            if pred[0][0] > 0.95:\n",
    "                rectangles.append((y, x, w, h))\n",
    "    \n",
    "    #print(len(rectangles))\n",
    "    for y, x, w, h in rectangles:\n",
    "        cv2.rectangle(frame, (x, y), (x + w, y + h), (0, 0, 255), 2)\n",
    "    \n",
    "    cv2.imshow('frame', frame)\n",
    "    if cv2.waitKey(1) & 0xFF == ord('q'):\n",
    "        break\n",
    "            \n",
    "cap.release()\n",
    "cv2.destroyAllWindows()"
   ]
  },
  {
   "cell_type": "code",
   "execution_count": 4,
   "metadata": {},
   "outputs": [],
   "source": [
    "cap.release()\n",
    "cv2.destroyAllWindows()"
   ]
  },
  {
   "cell_type": "code",
   "execution_count": 6,
   "metadata": {},
   "outputs": [
    {
     "data": {
      "text/plain": [
       "0.90038097"
      ]
     },
     "execution_count": 6,
     "metadata": {},
     "output_type": "execute_result"
    }
   ],
   "source": [
    "#model.predict(sample)\n",
    "#model.predict(x = sample)\n",
    "#?model.predict\n",
    "#sample\n",
    "model.predict(x = [sample])[0][0]"
   ]
  },
  {
   "cell_type": "code",
   "execution_count": 18,
   "metadata": {},
   "outputs": [
    {
     "data": {
      "text/plain": [
       "11060"
      ]
     },
     "execution_count": 18,
     "metadata": {},
     "output_type": "execute_result"
    }
   ],
   "source": [
    "all_y = np.arange(0, stream_height, H_STRIDE)\n",
    "all_x = np.arange(0, stream_width, W_STRIDE)\n",
    "all_rectangle = list(itertools.product(all_y, all_x, [WIDTH], [HEIGHT]))\n",
    "\n",
    "all_rectangle_filtered = filter(lambda c: (c[0] + c[3] < stream_height) and (c[1] + c[2] < stream_width), all_rectangle)\n",
    "len(list(all_rectangle_filtered))"
   ]
  }
 ],
 "metadata": {
  "kernelspec": {
   "display_name": "Python [conda env:tensorflow]",
   "language": "python",
   "name": "conda-env-tensorflow-py"
  },
  "language_info": {
   "codemirror_mode": {
    "name": "ipython",
    "version": 3
   },
   "file_extension": ".py",
   "mimetype": "text/x-python",
   "name": "python",
   "nbconvert_exporter": "python",
   "pygments_lexer": "ipython3",
   "version": "3.5.4"
  }
 },
 "nbformat": 4,
 "nbformat_minor": 2
}
